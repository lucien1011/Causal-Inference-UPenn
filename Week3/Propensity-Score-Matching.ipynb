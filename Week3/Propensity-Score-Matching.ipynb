{
 "cells": [
  {
   "cell_type": "markdown",
   "metadata": {},
   "source": [
    "****Install library****"
   ]
  },
  {
   "cell_type": "code",
   "execution_count": 5,
   "metadata": {},
   "outputs": [],
   "source": [
    "library(tableone)"
   ]
  },
  {
   "cell_type": "code",
   "execution_count": 7,
   "metadata": {},
   "outputs": [],
   "source": [
    "install.packages('Matching',lib='~/lib/R_libs')\n",
    "install.packages(\"MatchIt\",lib='~/lib/R_libs')"
   ]
  },
  {
   "cell_type": "code",
   "execution_count": 10,
   "metadata": {},
   "outputs": [
    {
     "name": "stderr",
     "output_type": "stream",
     "text": [
      "Loading required package: MASS\n",
      "\n",
      "## \n",
      "##  Matching (Version 4.9-11, Build Date: 2021-10-18)\n",
      "##  See http://sekhon.berkeley.edu/matching for additional documentation.\n",
      "##  Please cite software as:\n",
      "##   Jasjeet S. Sekhon. 2011. ``Multivariate and Propensity Score Matching\n",
      "##   Software with Automated Balance Optimization: The Matching package for R.''\n",
      "##   Journal of Statistical Software, 42(7): 1-52. \n",
      "##\n",
      "\n",
      "\n"
     ]
    }
   ],
   "source": [
    "library(tableone)\n",
    "library(Matching,lib='~/lib/R_libs')\n",
    "library(MatchIt,lib='~/lib/R_libs')"
   ]
  },
  {
   "cell_type": "markdown",
   "metadata": {},
   "source": [
    "****Read data****"
   ]
  },
  {
   "cell_type": "code",
   "execution_count": 11,
   "metadata": {},
   "outputs": [],
   "source": [
    "data(lalonde)"
   ]
  },
  {
   "cell_type": "code",
   "execution_count": 30,
   "metadata": {},
   "outputs": [
    {
     "data": {
      "text/html": [
       "<table class=\"dataframe\">\n",
       "<caption>A data.frame: 614 × 9</caption>\n",
       "<thead>\n",
       "\t<tr><th></th><th scope=col>treat</th><th scope=col>age</th><th scope=col>educ</th><th scope=col>race</th><th scope=col>married</th><th scope=col>nodegree</th><th scope=col>re74</th><th scope=col>re75</th><th scope=col>re78</th></tr>\n",
       "\t<tr><th></th><th scope=col>&lt;int&gt;</th><th scope=col>&lt;int&gt;</th><th scope=col>&lt;int&gt;</th><th scope=col>&lt;fct&gt;</th><th scope=col>&lt;int&gt;</th><th scope=col>&lt;int&gt;</th><th scope=col>&lt;dbl&gt;</th><th scope=col>&lt;dbl&gt;</th><th scope=col>&lt;dbl&gt;</th></tr>\n",
       "</thead>\n",
       "<tbody>\n",
       "\t<tr><th scope=row>NSW1</th><td>1</td><td>37</td><td>11</td><td>black </td><td>1</td><td>1</td><td>0</td><td>0</td><td> 9930.0460</td></tr>\n",
       "\t<tr><th scope=row>NSW2</th><td>1</td><td>22</td><td> 9</td><td>hispan</td><td>0</td><td>1</td><td>0</td><td>0</td><td> 3595.8940</td></tr>\n",
       "\t<tr><th scope=row>NSW3</th><td>1</td><td>30</td><td>12</td><td>black </td><td>0</td><td>0</td><td>0</td><td>0</td><td>24909.4500</td></tr>\n",
       "\t<tr><th scope=row>NSW4</th><td>1</td><td>27</td><td>11</td><td>black </td><td>0</td><td>1</td><td>0</td><td>0</td><td> 7506.1460</td></tr>\n",
       "\t<tr><th scope=row>NSW5</th><td>1</td><td>33</td><td> 8</td><td>black </td><td>0</td><td>1</td><td>0</td><td>0</td><td>  289.7899</td></tr>\n",
       "\t<tr><th scope=row>NSW6</th><td>1</td><td>22</td><td> 9</td><td>black </td><td>0</td><td>1</td><td>0</td><td>0</td><td> 4056.4940</td></tr>\n",
       "\t<tr><th scope=row>NSW7</th><td>1</td><td>23</td><td>12</td><td>black </td><td>0</td><td>0</td><td>0</td><td>0</td><td>    0.0000</td></tr>\n",
       "\t<tr><th scope=row>NSW8</th><td>1</td><td>32</td><td>11</td><td>black </td><td>0</td><td>1</td><td>0</td><td>0</td><td> 8472.1580</td></tr>\n",
       "\t<tr><th scope=row>NSW9</th><td>1</td><td>22</td><td>16</td><td>black </td><td>0</td><td>0</td><td>0</td><td>0</td><td> 2164.0220</td></tr>\n",
       "\t<tr><th scope=row>NSW10</th><td>1</td><td>33</td><td>12</td><td>white </td><td>1</td><td>0</td><td>0</td><td>0</td><td>12418.0700</td></tr>\n",
       "\t<tr><th scope=row>NSW11</th><td>1</td><td>19</td><td> 9</td><td>black </td><td>0</td><td>1</td><td>0</td><td>0</td><td> 8173.9080</td></tr>\n",
       "\t<tr><th scope=row>NSW12</th><td>1</td><td>21</td><td>13</td><td>black </td><td>0</td><td>0</td><td>0</td><td>0</td><td>17094.6400</td></tr>\n",
       "\t<tr><th scope=row>NSW13</th><td>1</td><td>18</td><td> 8</td><td>black </td><td>0</td><td>1</td><td>0</td><td>0</td><td>    0.0000</td></tr>\n",
       "\t<tr><th scope=row>NSW14</th><td>1</td><td>27</td><td>10</td><td>black </td><td>1</td><td>1</td><td>0</td><td>0</td><td>18739.9300</td></tr>\n",
       "\t<tr><th scope=row>NSW15</th><td>1</td><td>17</td><td> 7</td><td>black </td><td>0</td><td>1</td><td>0</td><td>0</td><td> 3023.8790</td></tr>\n",
       "\t<tr><th scope=row>NSW16</th><td>1</td><td>19</td><td>10</td><td>black </td><td>0</td><td>1</td><td>0</td><td>0</td><td> 3228.5030</td></tr>\n",
       "\t<tr><th scope=row>NSW17</th><td>1</td><td>27</td><td>13</td><td>black </td><td>0</td><td>0</td><td>0</td><td>0</td><td>14581.8600</td></tr>\n",
       "\t<tr><th scope=row>NSW18</th><td>1</td><td>23</td><td>10</td><td>black </td><td>0</td><td>1</td><td>0</td><td>0</td><td> 7693.4000</td></tr>\n",
       "\t<tr><th scope=row>NSW19</th><td>1</td><td>40</td><td>12</td><td>black </td><td>0</td><td>0</td><td>0</td><td>0</td><td>10804.3200</td></tr>\n",
       "\t<tr><th scope=row>NSW20</th><td>1</td><td>26</td><td>12</td><td>black </td><td>0</td><td>0</td><td>0</td><td>0</td><td>10747.3500</td></tr>\n",
       "\t<tr><th scope=row>NSW21</th><td>1</td><td>23</td><td>11</td><td>black </td><td>0</td><td>1</td><td>0</td><td>0</td><td>    0.0000</td></tr>\n",
       "\t<tr><th scope=row>NSW22</th><td>1</td><td>41</td><td>14</td><td>white </td><td>0</td><td>0</td><td>0</td><td>0</td><td> 5149.5010</td></tr>\n",
       "\t<tr><th scope=row>NSW23</th><td>1</td><td>38</td><td> 9</td><td>white </td><td>0</td><td>1</td><td>0</td><td>0</td><td> 6408.9500</td></tr>\n",
       "\t<tr><th scope=row>NSW24</th><td>1</td><td>24</td><td>11</td><td>black </td><td>0</td><td>1</td><td>0</td><td>0</td><td> 1991.4000</td></tr>\n",
       "\t<tr><th scope=row>NSW25</th><td>1</td><td>18</td><td>10</td><td>black </td><td>0</td><td>1</td><td>0</td><td>0</td><td>11163.1700</td></tr>\n",
       "\t<tr><th scope=row>NSW26</th><td>1</td><td>29</td><td>11</td><td>black </td><td>1</td><td>1</td><td>0</td><td>0</td><td> 9642.9990</td></tr>\n",
       "\t<tr><th scope=row>NSW27</th><td>1</td><td>25</td><td>11</td><td>black </td><td>0</td><td>1</td><td>0</td><td>0</td><td> 9897.0490</td></tr>\n",
       "\t<tr><th scope=row>NSW28</th><td>1</td><td>27</td><td>10</td><td>hispan</td><td>0</td><td>1</td><td>0</td><td>0</td><td>11142.8700</td></tr>\n",
       "\t<tr><th scope=row>NSW29</th><td>1</td><td>17</td><td>10</td><td>black </td><td>0</td><td>1</td><td>0</td><td>0</td><td>16218.0400</td></tr>\n",
       "\t<tr><th scope=row>NSW30</th><td>1</td><td>24</td><td>11</td><td>black </td><td>0</td><td>1</td><td>0</td><td>0</td><td>  995.7002</td></tr>\n",
       "\t<tr><th scope=row>⋮</th><td>⋮</td><td>⋮</td><td>⋮</td><td>⋮</td><td>⋮</td><td>⋮</td><td>⋮</td><td>⋮</td><td>⋮</td></tr>\n",
       "\t<tr><th scope=row>PSID400</th><td>0</td><td>37</td><td> 8</td><td>black </td><td>0</td><td>1</td><td>0</td><td>0</td><td>  648.7220</td></tr>\n",
       "\t<tr><th scope=row>PSID401</th><td>0</td><td>17</td><td>10</td><td>black </td><td>0</td><td>1</td><td>0</td><td>0</td><td> 1053.6190</td></tr>\n",
       "\t<tr><th scope=row>PSID402</th><td>0</td><td>16</td><td> 8</td><td>white </td><td>0</td><td>1</td><td>0</td><td>0</td><td>    0.0000</td></tr>\n",
       "\t<tr><th scope=row>PSID403</th><td>0</td><td>48</td><td>12</td><td>white </td><td>1</td><td>0</td><td>0</td><td>0</td><td> 1491.0260</td></tr>\n",
       "\t<tr><th scope=row>PSID404</th><td>0</td><td>55</td><td> 7</td><td>white </td><td>0</td><td>1</td><td>0</td><td>0</td><td>    0.0000</td></tr>\n",
       "\t<tr><th scope=row>PSID405</th><td>0</td><td>21</td><td>15</td><td>white </td><td>0</td><td>0</td><td>0</td><td>0</td><td>    0.0000</td></tr>\n",
       "\t<tr><th scope=row>PSID406</th><td>0</td><td>16</td><td>10</td><td>black </td><td>0</td><td>1</td><td>0</td><td>0</td><td> 1730.4180</td></tr>\n",
       "\t<tr><th scope=row>PSID407</th><td>0</td><td>23</td><td>12</td><td>white </td><td>0</td><td>0</td><td>0</td><td>0</td><td> 3902.6760</td></tr>\n",
       "\t<tr><th scope=row>PSID408</th><td>0</td><td>46</td><td>11</td><td>black </td><td>1</td><td>1</td><td>0</td><td>0</td><td>    0.0000</td></tr>\n",
       "\t<tr><th scope=row>PSID409</th><td>0</td><td>17</td><td>10</td><td>white </td><td>0</td><td>1</td><td>0</td><td>0</td><td>14942.7700</td></tr>\n",
       "\t<tr><th scope=row>PSID410</th><td>0</td><td>42</td><td>16</td><td>white </td><td>0</td><td>0</td><td>0</td><td>0</td><td>23764.8000</td></tr>\n",
       "\t<tr><th scope=row>PSID411</th><td>0</td><td>18</td><td>10</td><td>black </td><td>0</td><td>1</td><td>0</td><td>0</td><td> 5306.5160</td></tr>\n",
       "\t<tr><th scope=row>PSID412</th><td>0</td><td>53</td><td>12</td><td>black </td><td>0</td><td>0</td><td>0</td><td>0</td><td>    0.0000</td></tr>\n",
       "\t<tr><th scope=row>PSID413</th><td>0</td><td>17</td><td>10</td><td>white </td><td>1</td><td>1</td><td>0</td><td>0</td><td> 3859.8220</td></tr>\n",
       "\t<tr><th scope=row>PSID414</th><td>0</td><td>17</td><td> 6</td><td>white </td><td>0</td><td>1</td><td>0</td><td>0</td><td>    0.0000</td></tr>\n",
       "\t<tr><th scope=row>PSID415</th><td>0</td><td>43</td><td> 6</td><td>white </td><td>1</td><td>1</td><td>0</td><td>0</td><td>    0.0000</td></tr>\n",
       "\t<tr><th scope=row>PSID416</th><td>0</td><td>34</td><td>12</td><td>black </td><td>0</td><td>0</td><td>0</td><td>0</td><td>    0.0000</td></tr>\n",
       "\t<tr><th scope=row>PSID417</th><td>0</td><td>16</td><td> 8</td><td>hispan</td><td>0</td><td>1</td><td>0</td><td>0</td><td>12242.9600</td></tr>\n",
       "\t<tr><th scope=row>PSID418</th><td>0</td><td>27</td><td>12</td><td>white </td><td>1</td><td>0</td><td>0</td><td>0</td><td> 1533.8800</td></tr>\n",
       "\t<tr><th scope=row>PSID419</th><td>0</td><td>51</td><td> 4</td><td>black </td><td>0</td><td>1</td><td>0</td><td>0</td><td>    0.0000</td></tr>\n",
       "\t<tr><th scope=row>PSID420</th><td>0</td><td>39</td><td> 2</td><td>black </td><td>1</td><td>1</td><td>0</td><td>0</td><td>  964.9555</td></tr>\n",
       "\t<tr><th scope=row>PSID421</th><td>0</td><td>55</td><td> 8</td><td>white </td><td>1</td><td>1</td><td>0</td><td>0</td><td>    0.0000</td></tr>\n",
       "\t<tr><th scope=row>PSID422</th><td>0</td><td>16</td><td> 9</td><td>white </td><td>0</td><td>1</td><td>0</td><td>0</td><td> 5551.8190</td></tr>\n",
       "\t<tr><th scope=row>PSID423</th><td>0</td><td>27</td><td>10</td><td>black </td><td>0</td><td>1</td><td>0</td><td>0</td><td> 7543.7940</td></tr>\n",
       "\t<tr><th scope=row>PSID424</th><td>0</td><td>25</td><td>14</td><td>white </td><td>0</td><td>0</td><td>0</td><td>0</td><td>    0.0000</td></tr>\n",
       "\t<tr><th scope=row>PSID425</th><td>0</td><td>18</td><td>11</td><td>white </td><td>0</td><td>1</td><td>0</td><td>0</td><td>10150.5000</td></tr>\n",
       "\t<tr><th scope=row>PSID426</th><td>0</td><td>24</td><td> 1</td><td>hispan</td><td>1</td><td>1</td><td>0</td><td>0</td><td>19464.6100</td></tr>\n",
       "\t<tr><th scope=row>PSID427</th><td>0</td><td>21</td><td>18</td><td>white </td><td>0</td><td>0</td><td>0</td><td>0</td><td>    0.0000</td></tr>\n",
       "\t<tr><th scope=row>PSID428</th><td>0</td><td>32</td><td> 5</td><td>black </td><td>1</td><td>1</td><td>0</td><td>0</td><td>  187.6713</td></tr>\n",
       "\t<tr><th scope=row>PSID429</th><td>0</td><td>16</td><td> 9</td><td>white </td><td>0</td><td>1</td><td>0</td><td>0</td><td> 1495.4590</td></tr>\n",
       "</tbody>\n",
       "</table>\n"
      ],
      "text/latex": [
       "A data.frame: 614 × 9\n",
       "\\begin{tabular}{r|lllllllll}\n",
       "  & treat & age & educ & race & married & nodegree & re74 & re75 & re78\\\\\n",
       "  & <int> & <int> & <int> & <fct> & <int> & <int> & <dbl> & <dbl> & <dbl>\\\\\n",
       "\\hline\n",
       "\tNSW1 & 1 & 37 & 11 & black  & 1 & 1 & 0 & 0 &  9930.0460\\\\\n",
       "\tNSW2 & 1 & 22 &  9 & hispan & 0 & 1 & 0 & 0 &  3595.8940\\\\\n",
       "\tNSW3 & 1 & 30 & 12 & black  & 0 & 0 & 0 & 0 & 24909.4500\\\\\n",
       "\tNSW4 & 1 & 27 & 11 & black  & 0 & 1 & 0 & 0 &  7506.1460\\\\\n",
       "\tNSW5 & 1 & 33 &  8 & black  & 0 & 1 & 0 & 0 &   289.7899\\\\\n",
       "\tNSW6 & 1 & 22 &  9 & black  & 0 & 1 & 0 & 0 &  4056.4940\\\\\n",
       "\tNSW7 & 1 & 23 & 12 & black  & 0 & 0 & 0 & 0 &     0.0000\\\\\n",
       "\tNSW8 & 1 & 32 & 11 & black  & 0 & 1 & 0 & 0 &  8472.1580\\\\\n",
       "\tNSW9 & 1 & 22 & 16 & black  & 0 & 0 & 0 & 0 &  2164.0220\\\\\n",
       "\tNSW10 & 1 & 33 & 12 & white  & 1 & 0 & 0 & 0 & 12418.0700\\\\\n",
       "\tNSW11 & 1 & 19 &  9 & black  & 0 & 1 & 0 & 0 &  8173.9080\\\\\n",
       "\tNSW12 & 1 & 21 & 13 & black  & 0 & 0 & 0 & 0 & 17094.6400\\\\\n",
       "\tNSW13 & 1 & 18 &  8 & black  & 0 & 1 & 0 & 0 &     0.0000\\\\\n",
       "\tNSW14 & 1 & 27 & 10 & black  & 1 & 1 & 0 & 0 & 18739.9300\\\\\n",
       "\tNSW15 & 1 & 17 &  7 & black  & 0 & 1 & 0 & 0 &  3023.8790\\\\\n",
       "\tNSW16 & 1 & 19 & 10 & black  & 0 & 1 & 0 & 0 &  3228.5030\\\\\n",
       "\tNSW17 & 1 & 27 & 13 & black  & 0 & 0 & 0 & 0 & 14581.8600\\\\\n",
       "\tNSW18 & 1 & 23 & 10 & black  & 0 & 1 & 0 & 0 &  7693.4000\\\\\n",
       "\tNSW19 & 1 & 40 & 12 & black  & 0 & 0 & 0 & 0 & 10804.3200\\\\\n",
       "\tNSW20 & 1 & 26 & 12 & black  & 0 & 0 & 0 & 0 & 10747.3500\\\\\n",
       "\tNSW21 & 1 & 23 & 11 & black  & 0 & 1 & 0 & 0 &     0.0000\\\\\n",
       "\tNSW22 & 1 & 41 & 14 & white  & 0 & 0 & 0 & 0 &  5149.5010\\\\\n",
       "\tNSW23 & 1 & 38 &  9 & white  & 0 & 1 & 0 & 0 &  6408.9500\\\\\n",
       "\tNSW24 & 1 & 24 & 11 & black  & 0 & 1 & 0 & 0 &  1991.4000\\\\\n",
       "\tNSW25 & 1 & 18 & 10 & black  & 0 & 1 & 0 & 0 & 11163.1700\\\\\n",
       "\tNSW26 & 1 & 29 & 11 & black  & 1 & 1 & 0 & 0 &  9642.9990\\\\\n",
       "\tNSW27 & 1 & 25 & 11 & black  & 0 & 1 & 0 & 0 &  9897.0490\\\\\n",
       "\tNSW28 & 1 & 27 & 10 & hispan & 0 & 1 & 0 & 0 & 11142.8700\\\\\n",
       "\tNSW29 & 1 & 17 & 10 & black  & 0 & 1 & 0 & 0 & 16218.0400\\\\\n",
       "\tNSW30 & 1 & 24 & 11 & black  & 0 & 1 & 0 & 0 &   995.7002\\\\\n",
       "\t⋮ & ⋮ & ⋮ & ⋮ & ⋮ & ⋮ & ⋮ & ⋮ & ⋮ & ⋮\\\\\n",
       "\tPSID400 & 0 & 37 &  8 & black  & 0 & 1 & 0 & 0 &   648.7220\\\\\n",
       "\tPSID401 & 0 & 17 & 10 & black  & 0 & 1 & 0 & 0 &  1053.6190\\\\\n",
       "\tPSID402 & 0 & 16 &  8 & white  & 0 & 1 & 0 & 0 &     0.0000\\\\\n",
       "\tPSID403 & 0 & 48 & 12 & white  & 1 & 0 & 0 & 0 &  1491.0260\\\\\n",
       "\tPSID404 & 0 & 55 &  7 & white  & 0 & 1 & 0 & 0 &     0.0000\\\\\n",
       "\tPSID405 & 0 & 21 & 15 & white  & 0 & 0 & 0 & 0 &     0.0000\\\\\n",
       "\tPSID406 & 0 & 16 & 10 & black  & 0 & 1 & 0 & 0 &  1730.4180\\\\\n",
       "\tPSID407 & 0 & 23 & 12 & white  & 0 & 0 & 0 & 0 &  3902.6760\\\\\n",
       "\tPSID408 & 0 & 46 & 11 & black  & 1 & 1 & 0 & 0 &     0.0000\\\\\n",
       "\tPSID409 & 0 & 17 & 10 & white  & 0 & 1 & 0 & 0 & 14942.7700\\\\\n",
       "\tPSID410 & 0 & 42 & 16 & white  & 0 & 0 & 0 & 0 & 23764.8000\\\\\n",
       "\tPSID411 & 0 & 18 & 10 & black  & 0 & 1 & 0 & 0 &  5306.5160\\\\\n",
       "\tPSID412 & 0 & 53 & 12 & black  & 0 & 0 & 0 & 0 &     0.0000\\\\\n",
       "\tPSID413 & 0 & 17 & 10 & white  & 1 & 1 & 0 & 0 &  3859.8220\\\\\n",
       "\tPSID414 & 0 & 17 &  6 & white  & 0 & 1 & 0 & 0 &     0.0000\\\\\n",
       "\tPSID415 & 0 & 43 &  6 & white  & 1 & 1 & 0 & 0 &     0.0000\\\\\n",
       "\tPSID416 & 0 & 34 & 12 & black  & 0 & 0 & 0 & 0 &     0.0000\\\\\n",
       "\tPSID417 & 0 & 16 &  8 & hispan & 0 & 1 & 0 & 0 & 12242.9600\\\\\n",
       "\tPSID418 & 0 & 27 & 12 & white  & 1 & 0 & 0 & 0 &  1533.8800\\\\\n",
       "\tPSID419 & 0 & 51 &  4 & black  & 0 & 1 & 0 & 0 &     0.0000\\\\\n",
       "\tPSID420 & 0 & 39 &  2 & black  & 1 & 1 & 0 & 0 &   964.9555\\\\\n",
       "\tPSID421 & 0 & 55 &  8 & white  & 1 & 1 & 0 & 0 &     0.0000\\\\\n",
       "\tPSID422 & 0 & 16 &  9 & white  & 0 & 1 & 0 & 0 &  5551.8190\\\\\n",
       "\tPSID423 & 0 & 27 & 10 & black  & 0 & 1 & 0 & 0 &  7543.7940\\\\\n",
       "\tPSID424 & 0 & 25 & 14 & white  & 0 & 0 & 0 & 0 &     0.0000\\\\\n",
       "\tPSID425 & 0 & 18 & 11 & white  & 0 & 1 & 0 & 0 & 10150.5000\\\\\n",
       "\tPSID426 & 0 & 24 &  1 & hispan & 1 & 1 & 0 & 0 & 19464.6100\\\\\n",
       "\tPSID427 & 0 & 21 & 18 & white  & 0 & 0 & 0 & 0 &     0.0000\\\\\n",
       "\tPSID428 & 0 & 32 &  5 & black  & 1 & 1 & 0 & 0 &   187.6713\\\\\n",
       "\tPSID429 & 0 & 16 &  9 & white  & 0 & 1 & 0 & 0 &  1495.4590\\\\\n",
       "\\end{tabular}\n"
      ],
      "text/markdown": [
       "\n",
       "A data.frame: 614 × 9\n",
       "\n",
       "| <!--/--> | treat &lt;int&gt; | age &lt;int&gt; | educ &lt;int&gt; | race &lt;fct&gt; | married &lt;int&gt; | nodegree &lt;int&gt; | re74 &lt;dbl&gt; | re75 &lt;dbl&gt; | re78 &lt;dbl&gt; |\n",
       "|---|---|---|---|---|---|---|---|---|---|\n",
       "| NSW1 | 1 | 37 | 11 | black  | 1 | 1 | 0 | 0 |  9930.0460 |\n",
       "| NSW2 | 1 | 22 |  9 | hispan | 0 | 1 | 0 | 0 |  3595.8940 |\n",
       "| NSW3 | 1 | 30 | 12 | black  | 0 | 0 | 0 | 0 | 24909.4500 |\n",
       "| NSW4 | 1 | 27 | 11 | black  | 0 | 1 | 0 | 0 |  7506.1460 |\n",
       "| NSW5 | 1 | 33 |  8 | black  | 0 | 1 | 0 | 0 |   289.7899 |\n",
       "| NSW6 | 1 | 22 |  9 | black  | 0 | 1 | 0 | 0 |  4056.4940 |\n",
       "| NSW7 | 1 | 23 | 12 | black  | 0 | 0 | 0 | 0 |     0.0000 |\n",
       "| NSW8 | 1 | 32 | 11 | black  | 0 | 1 | 0 | 0 |  8472.1580 |\n",
       "| NSW9 | 1 | 22 | 16 | black  | 0 | 0 | 0 | 0 |  2164.0220 |\n",
       "| NSW10 | 1 | 33 | 12 | white  | 1 | 0 | 0 | 0 | 12418.0700 |\n",
       "| NSW11 | 1 | 19 |  9 | black  | 0 | 1 | 0 | 0 |  8173.9080 |\n",
       "| NSW12 | 1 | 21 | 13 | black  | 0 | 0 | 0 | 0 | 17094.6400 |\n",
       "| NSW13 | 1 | 18 |  8 | black  | 0 | 1 | 0 | 0 |     0.0000 |\n",
       "| NSW14 | 1 | 27 | 10 | black  | 1 | 1 | 0 | 0 | 18739.9300 |\n",
       "| NSW15 | 1 | 17 |  7 | black  | 0 | 1 | 0 | 0 |  3023.8790 |\n",
       "| NSW16 | 1 | 19 | 10 | black  | 0 | 1 | 0 | 0 |  3228.5030 |\n",
       "| NSW17 | 1 | 27 | 13 | black  | 0 | 0 | 0 | 0 | 14581.8600 |\n",
       "| NSW18 | 1 | 23 | 10 | black  | 0 | 1 | 0 | 0 |  7693.4000 |\n",
       "| NSW19 | 1 | 40 | 12 | black  | 0 | 0 | 0 | 0 | 10804.3200 |\n",
       "| NSW20 | 1 | 26 | 12 | black  | 0 | 0 | 0 | 0 | 10747.3500 |\n",
       "| NSW21 | 1 | 23 | 11 | black  | 0 | 1 | 0 | 0 |     0.0000 |\n",
       "| NSW22 | 1 | 41 | 14 | white  | 0 | 0 | 0 | 0 |  5149.5010 |\n",
       "| NSW23 | 1 | 38 |  9 | white  | 0 | 1 | 0 | 0 |  6408.9500 |\n",
       "| NSW24 | 1 | 24 | 11 | black  | 0 | 1 | 0 | 0 |  1991.4000 |\n",
       "| NSW25 | 1 | 18 | 10 | black  | 0 | 1 | 0 | 0 | 11163.1700 |\n",
       "| NSW26 | 1 | 29 | 11 | black  | 1 | 1 | 0 | 0 |  9642.9990 |\n",
       "| NSW27 | 1 | 25 | 11 | black  | 0 | 1 | 0 | 0 |  9897.0490 |\n",
       "| NSW28 | 1 | 27 | 10 | hispan | 0 | 1 | 0 | 0 | 11142.8700 |\n",
       "| NSW29 | 1 | 17 | 10 | black  | 0 | 1 | 0 | 0 | 16218.0400 |\n",
       "| NSW30 | 1 | 24 | 11 | black  | 0 | 1 | 0 | 0 |   995.7002 |\n",
       "| ⋮ | ⋮ | ⋮ | ⋮ | ⋮ | ⋮ | ⋮ | ⋮ | ⋮ | ⋮ |\n",
       "| PSID400 | 0 | 37 |  8 | black  | 0 | 1 | 0 | 0 |   648.7220 |\n",
       "| PSID401 | 0 | 17 | 10 | black  | 0 | 1 | 0 | 0 |  1053.6190 |\n",
       "| PSID402 | 0 | 16 |  8 | white  | 0 | 1 | 0 | 0 |     0.0000 |\n",
       "| PSID403 | 0 | 48 | 12 | white  | 1 | 0 | 0 | 0 |  1491.0260 |\n",
       "| PSID404 | 0 | 55 |  7 | white  | 0 | 1 | 0 | 0 |     0.0000 |\n",
       "| PSID405 | 0 | 21 | 15 | white  | 0 | 0 | 0 | 0 |     0.0000 |\n",
       "| PSID406 | 0 | 16 | 10 | black  | 0 | 1 | 0 | 0 |  1730.4180 |\n",
       "| PSID407 | 0 | 23 | 12 | white  | 0 | 0 | 0 | 0 |  3902.6760 |\n",
       "| PSID408 | 0 | 46 | 11 | black  | 1 | 1 | 0 | 0 |     0.0000 |\n",
       "| PSID409 | 0 | 17 | 10 | white  | 0 | 1 | 0 | 0 | 14942.7700 |\n",
       "| PSID410 | 0 | 42 | 16 | white  | 0 | 0 | 0 | 0 | 23764.8000 |\n",
       "| PSID411 | 0 | 18 | 10 | black  | 0 | 1 | 0 | 0 |  5306.5160 |\n",
       "| PSID412 | 0 | 53 | 12 | black  | 0 | 0 | 0 | 0 |     0.0000 |\n",
       "| PSID413 | 0 | 17 | 10 | white  | 1 | 1 | 0 | 0 |  3859.8220 |\n",
       "| PSID414 | 0 | 17 |  6 | white  | 0 | 1 | 0 | 0 |     0.0000 |\n",
       "| PSID415 | 0 | 43 |  6 | white  | 1 | 1 | 0 | 0 |     0.0000 |\n",
       "| PSID416 | 0 | 34 | 12 | black  | 0 | 0 | 0 | 0 |     0.0000 |\n",
       "| PSID417 | 0 | 16 |  8 | hispan | 0 | 1 | 0 | 0 | 12242.9600 |\n",
       "| PSID418 | 0 | 27 | 12 | white  | 1 | 0 | 0 | 0 |  1533.8800 |\n",
       "| PSID419 | 0 | 51 |  4 | black  | 0 | 1 | 0 | 0 |     0.0000 |\n",
       "| PSID420 | 0 | 39 |  2 | black  | 1 | 1 | 0 | 0 |   964.9555 |\n",
       "| PSID421 | 0 | 55 |  8 | white  | 1 | 1 | 0 | 0 |     0.0000 |\n",
       "| PSID422 | 0 | 16 |  9 | white  | 0 | 1 | 0 | 0 |  5551.8190 |\n",
       "| PSID423 | 0 | 27 | 10 | black  | 0 | 1 | 0 | 0 |  7543.7940 |\n",
       "| PSID424 | 0 | 25 | 14 | white  | 0 | 0 | 0 | 0 |     0.0000 |\n",
       "| PSID425 | 0 | 18 | 11 | white  | 0 | 1 | 0 | 0 | 10150.5000 |\n",
       "| PSID426 | 0 | 24 |  1 | hispan | 1 | 1 | 0 | 0 | 19464.6100 |\n",
       "| PSID427 | 0 | 21 | 18 | white  | 0 | 0 | 0 | 0 |     0.0000 |\n",
       "| PSID428 | 0 | 32 |  5 | black  | 1 | 1 | 0 | 0 |   187.6713 |\n",
       "| PSID429 | 0 | 16 |  9 | white  | 0 | 1 | 0 | 0 |  1495.4590 |\n",
       "\n"
      ],
      "text/plain": [
       "        treat age educ race   married nodegree re74 re75 re78      \n",
       "NSW1    1     37  11   black  1       1        0    0     9930.0460\n",
       "NSW2    1     22   9   hispan 0       1        0    0     3595.8940\n",
       "NSW3    1     30  12   black  0       0        0    0    24909.4500\n",
       "NSW4    1     27  11   black  0       1        0    0     7506.1460\n",
       "NSW5    1     33   8   black  0       1        0    0      289.7899\n",
       "NSW6    1     22   9   black  0       1        0    0     4056.4940\n",
       "NSW7    1     23  12   black  0       0        0    0        0.0000\n",
       "NSW8    1     32  11   black  0       1        0    0     8472.1580\n",
       "NSW9    1     22  16   black  0       0        0    0     2164.0220\n",
       "NSW10   1     33  12   white  1       0        0    0    12418.0700\n",
       "NSW11   1     19   9   black  0       1        0    0     8173.9080\n",
       "NSW12   1     21  13   black  0       0        0    0    17094.6400\n",
       "NSW13   1     18   8   black  0       1        0    0        0.0000\n",
       "NSW14   1     27  10   black  1       1        0    0    18739.9300\n",
       "NSW15   1     17   7   black  0       1        0    0     3023.8790\n",
       "NSW16   1     19  10   black  0       1        0    0     3228.5030\n",
       "NSW17   1     27  13   black  0       0        0    0    14581.8600\n",
       "NSW18   1     23  10   black  0       1        0    0     7693.4000\n",
       "NSW19   1     40  12   black  0       0        0    0    10804.3200\n",
       "NSW20   1     26  12   black  0       0        0    0    10747.3500\n",
       "NSW21   1     23  11   black  0       1        0    0        0.0000\n",
       "NSW22   1     41  14   white  0       0        0    0     5149.5010\n",
       "NSW23   1     38   9   white  0       1        0    0     6408.9500\n",
       "NSW24   1     24  11   black  0       1        0    0     1991.4000\n",
       "NSW25   1     18  10   black  0       1        0    0    11163.1700\n",
       "NSW26   1     29  11   black  1       1        0    0     9642.9990\n",
       "NSW27   1     25  11   black  0       1        0    0     9897.0490\n",
       "NSW28   1     27  10   hispan 0       1        0    0    11142.8700\n",
       "NSW29   1     17  10   black  0       1        0    0    16218.0400\n",
       "NSW30   1     24  11   black  0       1        0    0      995.7002\n",
       "⋮       ⋮     ⋮   ⋮    ⋮      ⋮       ⋮        ⋮    ⋮    ⋮         \n",
       "PSID400 0     37   8   black  0       1        0    0      648.7220\n",
       "PSID401 0     17  10   black  0       1        0    0     1053.6190\n",
       "PSID402 0     16   8   white  0       1        0    0        0.0000\n",
       "PSID403 0     48  12   white  1       0        0    0     1491.0260\n",
       "PSID404 0     55   7   white  0       1        0    0        0.0000\n",
       "PSID405 0     21  15   white  0       0        0    0        0.0000\n",
       "PSID406 0     16  10   black  0       1        0    0     1730.4180\n",
       "PSID407 0     23  12   white  0       0        0    0     3902.6760\n",
       "PSID408 0     46  11   black  1       1        0    0        0.0000\n",
       "PSID409 0     17  10   white  0       1        0    0    14942.7700\n",
       "PSID410 0     42  16   white  0       0        0    0    23764.8000\n",
       "PSID411 0     18  10   black  0       1        0    0     5306.5160\n",
       "PSID412 0     53  12   black  0       0        0    0        0.0000\n",
       "PSID413 0     17  10   white  1       1        0    0     3859.8220\n",
       "PSID414 0     17   6   white  0       1        0    0        0.0000\n",
       "PSID415 0     43   6   white  1       1        0    0        0.0000\n",
       "PSID416 0     34  12   black  0       0        0    0        0.0000\n",
       "PSID417 0     16   8   hispan 0       1        0    0    12242.9600\n",
       "PSID418 0     27  12   white  1       0        0    0     1533.8800\n",
       "PSID419 0     51   4   black  0       1        0    0        0.0000\n",
       "PSID420 0     39   2   black  1       1        0    0      964.9555\n",
       "PSID421 0     55   8   white  1       1        0    0        0.0000\n",
       "PSID422 0     16   9   white  0       1        0    0     5551.8190\n",
       "PSID423 0     27  10   black  0       1        0    0     7543.7940\n",
       "PSID424 0     25  14   white  0       0        0    0        0.0000\n",
       "PSID425 0     18  11   white  0       1        0    0    10150.5000\n",
       "PSID426 0     24   1   hispan 1       1        0    0    19464.6100\n",
       "PSID427 0     21  18   white  0       0        0    0        0.0000\n",
       "PSID428 0     32   5   black  1       1        0    0      187.6713\n",
       "PSID429 0     16   9   white  0       1        0    0     1495.4590"
      ]
     },
     "metadata": {},
     "output_type": "display_data"
    }
   ],
   "source": [
    "View(lalonde)"
   ]
  },
  {
   "cell_type": "markdown",
   "metadata": {},
   "source": [
    "****Create table one****"
   ]
  },
  {
   "cell_type": "code",
   "execution_count": 13,
   "metadata": {},
   "outputs": [],
   "source": [
    "confounding_vars <- c('age','educ','black','hispan','married',\n",
    "                      'nodegree','re74','re75')"
   ]
  },
  {
   "cell_type": "code",
   "execution_count": 20,
   "metadata": {},
   "outputs": [
    {
     "name": "stderr",
     "output_type": "stream",
     "text": [
      "Warning message in ModuleReturnVarsExist(vars, data):\n",
      "“The data frame does not have: black hispan  Dropped”\n"
     ]
    },
    {
     "name": "stdout",
     "output_type": "stream",
     "text": [
      "                      Stratified by treat\n",
      "                       0                 1                 SMD   \n",
      "  n                        429               185                 \n",
      "  age (mean (SD))        28.03 (10.79)     25.82 (7.16)     0.242\n",
      "  educ (mean (SD))       10.24 (2.86)      10.35 (2.01)     0.045\n",
      "  married (mean (SD))     0.51 (0.50)       0.19 (0.39)     0.719\n",
      "  nodegree (mean (SD))    0.60 (0.49)       0.71 (0.46)     0.235\n",
      "  re74 (mean (SD))     5619.24 (6788.75) 2095.57 (4886.62)  0.596\n",
      "  re75 (mean (SD))     2466.48 (3292.00) 1532.06 (3219.25)  0.287\n"
     ]
    }
   ],
   "source": [
    "tabUnmatched <- CreateTableOne(vars = confounding_vars, strata='treat', data = lalonde, test = FALSE)\n",
    "print(tabUnmatched, smd = TRUE)"
   ]
  },
  {
   "cell_type": "code",
   "execution_count": 23,
   "metadata": {},
   "outputs": [],
   "source": [
    "vars <- c('age','educ','race','married','nodegree','re74','re75','re78')"
   ]
  },
  {
   "cell_type": "code",
   "execution_count": 24,
   "metadata": {},
   "outputs": [
    {
     "name": "stdout",
     "output_type": "stream",
     "text": [
      "                      Stratified by treat\n",
      "                       0                 1                 SMD   \n",
      "  n                        429               185                 \n",
      "  age (mean (SD))        28.03 (10.79)     25.82 (7.16)     0.242\n",
      "  educ (mean (SD))       10.24 (2.86)      10.35 (2.01)     0.045\n",
      "  race (%)                                                  1.701\n",
      "     black                  87 (20.3)        156 (84.3)          \n",
      "     hispan                 61 (14.2)         11 ( 5.9)          \n",
      "     white                 281 (65.5)         18 ( 9.7)          \n",
      "  married (mean (SD))     0.51 (0.50)       0.19 (0.39)     0.719\n",
      "  nodegree (mean (SD))    0.60 (0.49)       0.71 (0.46)     0.235\n",
      "  re74 (mean (SD))     5619.24 (6788.75) 2095.57 (4886.62)  0.596\n",
      "  re75 (mean (SD))     2466.48 (3292.00) 1532.06 (3219.25)  0.287\n",
      "  re78 (mean (SD))     6984.17 (7294.16) 6349.14 (7867.40)  0.084\n"
     ]
    }
   ],
   "source": [
    "tabUnmatched <- CreateTableOne(vars = vars, strata='treat', data = lalonde, test = FALSE)\n",
    "print(tabUnmatched, smd = TRUE)"
   ]
  },
  {
   "cell_type": "markdown",
   "metadata": {},
   "source": [
    "****Fitting a propensity model****"
   ]
  },
  {
   "cell_type": "code",
   "execution_count": 58,
   "metadata": {},
   "outputs": [],
   "source": [
    "age<-lalonde$age\n",
    "educ<-lalonde$educ\n",
    "black<-as.numeric(lalonde$race=='black')\n",
    "hispan<-as.numeric(lalonde$race=='hispan')\n",
    "married<-lalonde$married\n",
    "nodegree<-lalonde$nodegree\n",
    "re74<-lalonde$re74\n",
    "re75<-lalonde$re75\n",
    "re78<-lalonde$re78\n",
    "treat<-lalonde$treat"
   ]
  },
  {
   "cell_type": "code",
   "execution_count": 59,
   "metadata": {},
   "outputs": [],
   "source": [
    "mydata<-cbind(age,educ,black,hispan,married,nodegree,re74,re75,re78,treat)\n",
    "mydata<-data.frame(mydata)"
   ]
  },
  {
   "cell_type": "code",
   "execution_count": 60,
   "metadata": {},
   "outputs": [
    {
     "data": {
      "text/plain": [
       "\n",
       "Call:\n",
       "glm(formula = treat ~ age + educ + black + hispan + married + \n",
       "    nodegree + re74 + re75, family = binomial(), data = mydata)\n",
       "\n",
       "Deviance Residuals: \n",
       "    Min       1Q   Median       3Q      Max  \n",
       "-1.7645  -0.4736  -0.2862   0.7508   2.7169  \n",
       "\n",
       "Coefficients:\n",
       "              Estimate Std. Error z value Pr(>|z|)    \n",
       "(Intercept) -4.729e+00  1.017e+00  -4.649 3.33e-06 ***\n",
       "age          1.578e-02  1.358e-02   1.162  0.24521    \n",
       "educ         1.613e-01  6.513e-02   2.477  0.01325 *  \n",
       "black        3.065e+00  2.865e-01  10.699  < 2e-16 ***\n",
       "hispan       9.836e-01  4.257e-01   2.311  0.02084 *  \n",
       "married     -8.321e-01  2.903e-01  -2.866  0.00415 ** \n",
       "nodegree     7.073e-01  3.377e-01   2.095  0.03620 *  \n",
       "re74        -7.178e-05  2.875e-05  -2.497  0.01253 *  \n",
       "re75         5.345e-05  4.635e-05   1.153  0.24884    \n",
       "---\n",
       "Signif. codes:  0 ‘***’ 0.001 ‘**’ 0.01 ‘*’ 0.05 ‘.’ 0.1 ‘ ’ 1\n",
       "\n",
       "(Dispersion parameter for binomial family taken to be 1)\n",
       "\n",
       "    Null deviance: 751.49  on 613  degrees of freedom\n",
       "Residual deviance: 487.84  on 605  degrees of freedom\n",
       "AIC: 505.84\n",
       "\n",
       "Number of Fisher Scoring iterations: 5\n"
      ]
     },
     "metadata": {},
     "output_type": "display_data"
    }
   ],
   "source": [
    "psmodel<-glm(treat~age+educ+black+hispan+married+nodegree+re74+re75,family=binomial(),data=mydata)\n",
    "summary(psmodel)\n",
    "pscore<-psmodel$fitted.values"
   ]
  },
  {
   "cell_type": "code",
   "execution_count": 61,
   "metadata": {},
   "outputs": [
    {
     "data": {
      "text/html": [
       "0.00908019323660914"
      ],
      "text/latex": [
       "0.00908019323660914"
      ],
      "text/markdown": [
       "0.00908019323660914"
      ],
      "text/plain": [
       "[1] 0.009080193"
      ]
     },
     "metadata": {},
     "output_type": "display_data"
    },
    {
     "data": {
      "text/html": [
       "0.853152844232332"
      ],
      "text/latex": [
       "0.853152844232332"
      ],
      "text/markdown": [
       "0.853152844232332"
      ],
      "text/plain": [
       "[1] 0.8531528"
      ]
     },
     "metadata": {},
     "output_type": "display_data"
    }
   ],
   "source": [
    "min(pscore)\n",
    "max(pscore)"
   ]
  },
  {
   "cell_type": "markdown",
   "metadata": {},
   "source": [
    "****Propensity Score Matching without caliper****"
   ]
  },
  {
   "cell_type": "code",
   "execution_count": 62,
   "metadata": {},
   "outputs": [],
   "source": [
    "set.seed(931139)"
   ]
  },
  {
   "cell_type": "code",
   "execution_count": 63,
   "metadata": {},
   "outputs": [
    {
     "name": "stdout",
     "output_type": "stream",
     "text": [
      "                      Stratified by treat\n",
      "                       0                 1                 SMD   \n",
      "  n                        185               185                 \n",
      "  age (mean (SD))        25.29 (10.65)     25.82 (7.16)     0.058\n",
      "  educ (mean (SD))       10.55 (2.71)      10.35 (2.01)     0.084\n",
      "  black (mean (SD))       0.47 (0.50)       0.84 (0.36)     0.852\n",
      "  hispan (mean (SD))      0.21 (0.41)       0.06 (0.24)     0.453\n",
      "  married (mean (SD))     0.20 (0.40)       0.19 (0.39)     0.027\n",
      "  nodegree (mean (SD))    0.65 (0.48)       0.71 (0.46)     0.127\n",
      "  re74 (mean (SD))     2351.12 (4192.62) 2095.57 (4886.62)  0.056\n",
      "  re75 (mean (SD))     1605.02 (2601.68) 1532.06 (3219.25)  0.025\n"
     ]
    }
   ],
   "source": [
    "psmatch<-Match(Tr=treat,M=1,X=pscore,replace=FALSE)\n",
    "matched<-mydata[unlist(psmatch[c('index.treated','index.control')]),]\n",
    "xvars<-c('age','educ','black','hispan','married','nodegree','re74','re75')\n",
    "matchedtab1<-CreateTableOne(vars=xvars,strat='treat',data=matched,test=FALSE)\n",
    "print(matchedtab1,smd=TRUE)"
   ]
  },
  {
   "cell_type": "markdown",
   "metadata": {},
   "source": [
    "****Propensity Score Matching with caliper = 0.1****"
   ]
  },
  {
   "cell_type": "code",
   "execution_count": 65,
   "metadata": {},
   "outputs": [],
   "source": [
    "set.seed(931139)"
   ]
  },
  {
   "cell_type": "code",
   "execution_count": 66,
   "metadata": {},
   "outputs": [
    {
     "name": "stdout",
     "output_type": "stream",
     "text": [
      "                      Stratified by treat\n",
      "                       0                 1                 SMD   \n",
      "  n                        111               111                 \n",
      "  age (mean (SD))        26.27 (11.10)     26.22 (7.18)     0.006\n",
      "  educ (mean (SD))       10.37 (2.66)      10.25 (2.31)     0.047\n",
      "  black (mean (SD))       0.72 (0.45)       0.74 (0.44)     0.040\n",
      "  hispan (mean (SD))      0.11 (0.31)       0.10 (0.30)     0.029\n",
      "  married (mean (SD))     0.24 (0.43)       0.24 (0.43)    <0.001\n",
      "  nodegree (mean (SD))    0.66 (0.48)       0.65 (0.48)     0.019\n",
      "  re74 (mean (SD))     2704.56 (4759.89) 2250.49 (5746.14)  0.086\n",
      "  re75 (mean (SD))     1969.10 (3169.08) 1222.25 (3081.19)  0.239\n"
     ]
    }
   ],
   "source": [
    "psmatch<-Match(Tr=treat,M=1,X=pscore,replace=FALSE,caliper=0.1)\n",
    "matched<-mydata[unlist(psmatch[c('index.treated','index.control')]),]\n",
    "xvars<-c('age','educ','black','hispan','married','nodegree','re74','re75')\n",
    "matchedtab1<-CreateTableOne(vars=xvars,strat='treat',data=matched,test=FALSE)\n",
    "print(matchedtab1,smd=TRUE)"
   ]
  },
  {
   "cell_type": "code",
   "execution_count": 67,
   "metadata": {},
   "outputs": [
    {
     "name": "stdout",
     "output_type": "stream",
     "text": [
      "                  Stratified by treat\n",
      "                   0                 1                 SMD   \n",
      "  n                    111               111                 \n",
      "  re78 (mean (SD)) 4904.37 (5832.77) 6151.18 (6710.66)  0.198\n"
     ]
    }
   ],
   "source": [
    "xvars<-c('re78')\n",
    "matchedtab1<-CreateTableOne(vars=xvars,strat='treat',data=matched,test=FALSE)\n",
    "print(matchedtab1,smd=TRUE)"
   ]
  },
  {
   "cell_type": "markdown",
   "metadata": {},
   "source": [
    "****Outcome analysis****"
   ]
  },
  {
   "cell_type": "code",
   "execution_count": 69,
   "metadata": {},
   "outputs": [
    {
     "data": {
      "text/plain": [
       "\n",
       "\tOne Sample t-test\n",
       "\n",
       "data:  diffy\n",
       "t = 1.4824, df = 110, p-value = 0.1411\n",
       "alternative hypothesis: true mean is not equal to 0\n",
       "95 percent confidence interval:\n",
       " -420.0273 2913.6398\n",
       "sample estimates:\n",
       "mean of x \n",
       " 1246.806 \n"
      ]
     },
     "metadata": {},
     "output_type": "display_data"
    }
   ],
   "source": [
    "y_trt<-matched$re78[matched$treat==1]\n",
    "y_con<-matched$re78[matched$treat==0]\n",
    "\n",
    "diffy<-y_trt-y_con\n",
    "t.test(diffy)"
   ]
  },
  {
   "cell_type": "code",
   "execution_count": null,
   "metadata": {},
   "outputs": [],
   "source": []
  }
 ],
 "metadata": {
  "kernelspec": {
   "display_name": "UFRC R-4.0",
   "language": "R",
   "name": "ir-ufrc-4.0"
  },
  "language_info": {
   "codemirror_mode": "r",
   "file_extension": ".r",
   "mimetype": "text/x-r-source",
   "name": "R",
   "pygments_lexer": "r",
   "version": "4.0.5"
  }
 },
 "nbformat": 4,
 "nbformat_minor": 4
}
